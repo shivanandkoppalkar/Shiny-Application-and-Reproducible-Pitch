{
  "nbformat": 4,
  "nbformat_minor": 0,
  "metadata": {
    "colab": {
      "name": "Copy of Exercise 3 - Question.ipynb",
      "version": "0.3.2",
      "provenance": [],
      "collapsed_sections": []
    },
    "kernelspec": {
      "name": "python3",
      "display_name": "Python 3"
    }
  },
  "cells": [
    {
      "cell_type": "markdown",
      "metadata": {
        "id": "iQjHqsmTAVLU",
        "colab_type": "text"
      },
      "source": [
        "## Exercise 3\n",
        "In the videos you looked at how you would improve Fashion MNIST using Convolutions. For your exercise see if you can improve MNIST to 99.8% accuracy or more using only a single convolutional layer and a single MaxPooling 2D. You should stop training once the accuracy goes above this amount. It should happen in less than 20 epochs, so it's ok to hard code the number of epochs for training, but your training must end once it hits the above metric. If it doesn't, then you'll need to redesign your layers.\n",
        "\n",
        "I've started the code for you -- you need to finish it!\n",
        "\n",
        "When 99.8% accuracy has been hit, you should print out the string \"Reached 99.8% accuracy so cancelling training!\"\n"
      ]
    },
    {
      "cell_type": "code",
      "metadata": {
        "id": "sfQRyaJWAIdg",
        "colab_type": "code",
        "colab": {
          "base_uri": "https://localhost:8080/",
          "height": 575
        },
        "outputId": "7a432f50-325a-4b05-cc10-8aaadc9afa6b"
      },
      "source": [
        "import tensorflow as tf\n",
        "\n",
        "# YOUR CODE STARTS HERE\n",
        "class Callbackclass(tf.keras.callbacks.Callback):\n",
        "  def on_epoch_end(self,epoch,logs={}):\n",
        "    if(logs.get(\"acc\")>=0.998):\n",
        "      print(\"Reached 99.8% accuracy so cancelling training!\")\n",
        "      self.model.stop_training=True\n",
        "# YOUR CODE ENDS HERE\n",
        "\n",
        "mnist = tf.keras.datasets.mnist\n",
        "(training_images, training_labels), (test_images, test_labels) = mnist.load_data()\n",
        "\n",
        "# YOUR CODE STARTS HERE\n",
        "callbacks=Callbackclass()\n",
        "training_images=training_images.reshape(60000,28,28,1)\n",
        "training_images=training_images/255\n",
        "test_images=test_images.reshape(10000,28,28,1)\n",
        "test_images=test_images/255\n",
        "# YOUR CODE ENDS HERE\n",
        "\n",
        "model = tf.keras.models.Sequential([\n",
        "    # YOUR CODE STARTS HERE\n",
        "    tf.keras.layers.Conv2D(32,(3,3),activation=\"relu\",input_shape=(28,28,1)),\n",
        "    tf.keras.layers.MaxPooling2D(2,2),\n",
        "    tf.keras.layers.Conv2D(32,(3,3),activation=\"relu\"),\n",
        "    tf.keras.layers.MaxPooling2D(2,2),\n",
        "    tf.keras.layers.Flatten(),\n",
        "    tf.keras.layers.Dense(128,activation=\"relu\"),\n",
        "    tf.keras.layers.Dense(10,activation=\"softmax\")\n",
        "    # YOUR CODE ENDS HERE\n",
        "])\n",
        "\n",
        "# YOUR CODE STARTS HERE\n",
        "model.compile(optimizer=\"adam\",loss=\"sparse_categorical_crossentropy\",metrics=[\"accuracy\"])\n",
        "model.fit(training_images,training_labels,epochs=20,callbacks=[callbacks])\n",
        "test_loss,test_accuracy=model.evaluate(test_images,test_labels)\n",
        "print(test_accuracy)\n",
        "# YOUR CODE ENDS HERE\n",
        "\n"
      ],
      "execution_count": 1,
      "outputs": [
        {
          "output_type": "stream",
          "text": [
            "Downloading data from https://storage.googleapis.com/tensorflow/tf-keras-datasets/mnist.npz\n",
            "11493376/11490434 [==============================] - 0s 0us/step\n"
          ],
          "name": "stdout"
        },
        {
          "output_type": "stream",
          "text": [
            "WARNING: Logging before flag parsing goes to stderr.\n",
            "W0820 12:04:10.372610 139695447488384 deprecation.py:506] From /usr/local/lib/python3.6/dist-packages/tensorflow/python/ops/init_ops.py:1251: calling VarianceScaling.__init__ (from tensorflow.python.ops.init_ops) with dtype is deprecated and will be removed in a future version.\n",
            "Instructions for updating:\n",
            "Call initializer instance with the dtype argument instead of passing it to the constructor\n"
          ],
          "name": "stderr"
        },
        {
          "output_type": "stream",
          "text": [
            "Epoch 1/20\n",
            "60000/60000 [==============================] - 52s 870us/sample - loss: 0.1426 - acc: 0.9570\n",
            "Epoch 2/20\n",
            "60000/60000 [==============================] - 52s 865us/sample - loss: 0.0452 - acc: 0.9858\n",
            "Epoch 3/20\n",
            "60000/60000 [==============================] - 51s 852us/sample - loss: 0.0321 - acc: 0.9899\n",
            "Epoch 4/20\n",
            "60000/60000 [==============================] - 50s 841us/sample - loss: 0.0231 - acc: 0.9925\n",
            "Epoch 5/20\n",
            "60000/60000 [==============================] - 50s 839us/sample - loss: 0.0181 - acc: 0.9943\n",
            "Epoch 6/20\n",
            "60000/60000 [==============================] - 50s 840us/sample - loss: 0.0147 - acc: 0.9953\n",
            "Epoch 7/20\n",
            "60000/60000 [==============================] - 50s 840us/sample - loss: 0.0108 - acc: 0.9963\n",
            "Epoch 8/20\n",
            "60000/60000 [==============================] - 51s 850us/sample - loss: 0.0100 - acc: 0.9967\n",
            "Epoch 9/20\n",
            "60000/60000 [==============================] - 50s 841us/sample - loss: 0.0081 - acc: 0.9973\n",
            "Epoch 10/20\n",
            "60000/60000 [==============================] - 50s 832us/sample - loss: 0.0066 - acc: 0.9979\n",
            "Epoch 11/20\n",
            "59936/60000 [============================>.] - ETA: 0s - loss: 0.0062 - acc: 0.9981Reached 99.8% accuracy so cancelling training!\n",
            "60000/60000 [==============================] - 50s 839us/sample - loss: 0.0061 - acc: 0.9981\n",
            "10000/10000 [==============================] - 3s 280us/sample - loss: 0.0516 - acc: 0.9886\n",
            "0.9886\n"
          ],
          "name": "stdout"
        }
      ]
    }
  ]
}